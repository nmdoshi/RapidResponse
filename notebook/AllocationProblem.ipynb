{
    "cells": [
        {
            "cell_type": "code",
            "execution_count": 0,
            "metadata": {},
            "outputs": [],
            "source": "# The code was removed by Watson Studio for sharing."
        },
        {
            "cell_type": "code",
            "execution_count": 0,
            "metadata": {},
            "outputs": [],
            "source": "#dd-ignore\n\n!pip install --user dd-scenario\n"
        },
        {
            "cell_type": "code",
            "execution_count": 0,
            "metadata": {},
            "outputs": [],
            "source": "#dd-ignore\n\nfrom dd_scenario import *\n\n# Creates a client...\n# If you want to be able to call solve() on the client, you have to provide your API Key\n# client = Client(pc=pc, apikey='IAM_APIKEY')\nclient = Client(pc=pc)\n"
        },
        {
            "cell_type": "code",
            "execution_count": 0,
            "metadata": {},
            "outputs": [],
            "source": "#dd-ignore\n\n#Get 'ResourceAllocation' decision...\ndd_model_builder = client.get_model_builder(name=\"ResourceAllocation\")\n\n#Get scenario 'Shipment_MICounty'...\nscenario = dd_model_builder.get_scenario(name=\"Shipment_MICounty\")\n\n#Load all input data as a map { data_name: data_frame }\ninputs = scenario.get_tables_data(category='input')\n# This will hold all outputs as a map { data_name: data_frame }\noutputs = {}\n\n# we use a lock to access ``outputs``. This allows solves() to\n# be aborted without race condition in data writting\nimport threading\noutput_lock = threading.Lock()\n\n"
        },
        {
            "cell_type": "code",
            "execution_count": 0,
            "metadata": {},
            "outputs": [],
            "source": "from docplex.mp.model import Model\nimport pandas \n\n# Load CSV files into inputs dictionnary\ninputs = get_all_inputs()\nmarkets = inputs['LedgerToWork']\nmarkets.head()\n\n# We don't want the markets to have more material than their forecasted demand.  So capping the max ship\nmarkets['MAX_SHIP'] = markets['FCST_DEMAND_1_WK'] - markets['CURR_INV']\nmarkets.loc[markets['MAX_SHIP'] < 0, 'MAX_SHIP'] = 0\n\n# Total cases avaivlale for shipment is hardcoded for now.  Should really come from an external source\ntotal_shipments = inputs['shipments']\ntotal_shipments = total_shipments.iloc[0,0]\n\n# Total current inventory, total demand and an overall optimum allocation ratio across all markets\ntotal_curr_inv = markets.CURR_INV.sum()\ntotal_demand = markets.FCST_DEMAND_1_WK.sum()\nopt_allocation_ratio = (total_shipments + total_curr_inv)/total_demand\n\n# Model\nmdl = Model(name='prs4b')\n\n# Create integer decision variables for shipments.  Lower bound is 0.  Upper bound is forecast - curr inv\nqty = markets.copy()\nqty['VAR'] = qty.apply(lambda x: mdl.integer_var(name=x['CITY'], ub = x['MAX_SHIP'], lb = 0), axis=1)\n# make the name the index\nqty.set_index('CITY', inplace=True)\n\n# Create a dummy decision variable representing the diff in allocation ratio.\n# Need this dummy dvs to account for the fact that we need to minimize the sum of the absolute\n# differences between the allocation ratio in individual markets.  The presence of the \n# absolute number in the objective will make it non-linear. \n# If we have 25 markets, we will have 24 dvs.  DV for market 1 -> 2, DV for market 1 -> 3, \n# market 1 -> 3, etc to 1 - > 25\ndummy_dvs = pandas.DataFrame({'CITY_A': [qty.index.values[0]]*(qty.shape[0])})\ndummy_dvs['CITY_B'] = qty.index.values\ndummy_dvs = dummy_dvs.loc[dummy_dvs['CITY_A'] != dummy_dvs['CITY_B']]\ndummy_dvs['IDX'] = 'DV_' + dummy_dvs['CITY_A'] + '_' + dummy_dvs['CITY_B']\ndummy_dvs['VAR'] = dummy_dvs.apply(lambda x: mdl.continuous_var(name = 'DV_' + x['CITY_A'] + '_' + x['CITY_B']), axis=1)\ndummy_dvs.set_index('IDX', inplace = True)\ndummy_dvs.head()\n\n# Add constraints\n# Total shipment across all markets cannot exceed total available product from suppier\nmdl.add_constraint(mdl.sum(qty.loc[m.CITY]['VAR'] for m in markets.itertuples())<= total_shipments, 'CT_Total_Shipment')\nmdl.add_constraints( \\\n                    (((mdl.sum([qty.loc[d[1]]['VAR'], qty.loc[d[1]]['CURR_INV']]))/qty.loc[d[1]]['FCST_DEMAND_1_WK'] - \\\n                      (mdl.sum([qty.loc[d[2]]['VAR'], qty.loc[d[2]]['CURR_INV']]))/qty.loc[d[2]]['FCST_DEMAND_1_WK']) \\\n                     <= d[3]) for d in dummy_dvs.itertuples())\nmdl.add_constraints( \\\n                    (-1*((mdl.sum([qty.loc[d[1]]['VAR'], qty.loc[d[1]]['CURR_INV']]))/qty.loc[d[1]]['FCST_DEMAND_1_WK'] - \\\n                      (mdl.sum([qty.loc[d[2]]['VAR'], qty.loc[d[2]]['CURR_INV']]))/qty.loc[d[2]]['FCST_DEMAND_1_WK']) \\\n                     <= d[3]) for d in dummy_dvs.itertuples())\n                     \n#Defining the KPIs\nfor n in markets.itertuples():\n    shortage_ratio_with_var = ((qty.loc[n.CITY]['FCST_DEMAND_1_WK']-(qty.loc[n.CITY]['CURR_INV']))-qty.loc[n.CITY]['VAR'])/qty.loc[n.CITY]['FCST_DEMAND_1_WK']\n    \n    mdl.add_kpi(shortage_ratio_with_var, publish_name='Shortage percentage for %s' % n.CITY)\n\n# Define the objective function \ntotal_ratio = mdl.sum((-1*(qty.loc[m.CITY]['VAR'] + m.CURR_INV)/m.FCST_DEMAND_1_WK) for m in markets.itertuples())\ntotal_dummy_vars = mdl.sum((d[3]) for d in dummy_dvs.itertuples())\nmdl.add_kpi(-1*(total_ratio/25), publish_name=\"Total Allocation Ratio\")\nmdl.add_kpi(total_dummy_vars, publish_name=\"Total Shortage Ratio\")\nmdl.minimize(total_ratio + total_dummy_vars)\n\n\nmdl.print_information()\n\n# solve\nok = mdl.solve()\nmdl.print_solution()\nmdl.report()\n\n#Creating the output variable filled up with model solution \nimport pandas\nimport numpy\n\nsolution_df = pandas.DataFrame(columns=['name', 'value'])\n\nfor index, dvar in enumerate(mdl.solution.iter_variables()):\n    if(not dvar.to_string().startswith('DV_')):\n        solution_df.loc[index,'name'] = dvar.to_string()\n        solution_df.loc[index,'value'] = dvar.solution_value\n"
        },
        {
            "cell_type": "code",
            "execution_count": 0,
            "metadata": {},
            "outputs": [],
            "source": "solution_df\n"
        },
        {
            "cell_type": "code",
            "execution_count": 0,
            "metadata": {},
            "outputs": [],
            "source": "outputs['solution'] = solution_df"
        }
    ],
    "metadata": {
        "kernelspec": {
            "display_name": "Python 3.6",
            "language": "python",
            "name": "python3"
        },
        "language_info": {
            "codemirror_mode": {
                "name": "ipython",
                "version": 3
            },
            "file_extension": ".py",
            "mimetype": "text/x-python",
            "name": "python",
            "nbconvert_exporter": "python",
            "pygments_lexer": "ipython3",
            "version": "3.6.9"
        }
    },
    "nbformat": 4,
    "nbformat_minor": 1
}