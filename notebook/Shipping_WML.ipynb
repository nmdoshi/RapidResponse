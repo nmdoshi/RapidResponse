{
    "cells": [
        {
            "cell_type": "code",
            "execution_count": 45,
            "metadata": {},
            "outputs": [
                {
                    "name": "stdout",
                    "output_type": "stream",
                    "text": "Requirement already satisfied: watson-machine-learning-client-V4 in /cc-home/_global_/python-3.6 (1.0.55)\nRequirement already satisfied: requests in /user-home/_global_/python-3 (from watson-machine-learning-client-V4) (2.21.0)\nRequirement already satisfied: urllib3 in /user-home/_global_/python-3 (from watson-machine-learning-client-V4) (1.24.1)\nRequirement already satisfied: pandas in /opt/conda/envs/Python-3.6/lib/python3.6/site-packages (from watson-machine-learning-client-V4) (0.24.1)\nRequirement already satisfied: certifi in /user-home/_global_/python-3 (from watson-machine-learning-client-V4) (2019.3.9)\nRequirement already satisfied: tqdm in /opt/conda/envs/Python-3.6/lib/python3.6/site-packages (from watson-machine-learning-client-V4) (4.31.1)\nRequirement already satisfied: lomond in /cc-home/_global_/python-3.6 (from watson-machine-learning-client-V4) (0.3.3)\nRequirement already satisfied: tabulate in /opt/conda/envs/Python-3.6/lib/python3.6/site-packages (from watson-machine-learning-client-V4) (0.8.2)\nRequirement already satisfied: ibm-cos-sdk in /cc-home/_global_/python-3.6 (from watson-machine-learning-client-V4) (2.5.4)\nRequirement already satisfied: chardet<3.1.0,>=3.0.2 in /user-home/_global_/python-3 (from requests->watson-machine-learning-client-V4) (3.0.4)\nRequirement already satisfied: idna<2.9,>=2.5 in /user-home/_global_/python-3 (from requests->watson-machine-learning-client-V4) (2.8)\nRequirement already satisfied: numpy>=1.12.0 in /opt/conda/envs/Python-3.6/lib/python3.6/site-packages (from pandas->watson-machine-learning-client-V4) (1.15.4)\nRequirement already satisfied: pytz>=2011k in /opt/conda/envs/Python-3.6/lib/python3.6/site-packages (from pandas->watson-machine-learning-client-V4) (2018.9)\nRequirement already satisfied: python-dateutil>=2.5.0 in /opt/conda/envs/Python-3.6/lib/python3.6/site-packages (from pandas->watson-machine-learning-client-V4) (2.7.5)\nRequirement already satisfied: six>=1.10.0 in /user-home/_global_/python-3 (from lomond->watson-machine-learning-client-V4) (1.12.0)\nRequirement already satisfied: ibm-cos-sdk-core>=2.0.0 in /cc-home/_global_/python-3.6 (from ibm-cos-sdk->watson-machine-learning-client-V4) (2.5.4)\nRequirement already satisfied: ibm-cos-sdk-s3transfer>=2.0.0 in /cc-home/_global_/python-3.6 (from ibm-cos-sdk->watson-machine-learning-client-V4) (2.5.4)\nRequirement already satisfied: jmespath<1.0.0,>=0.7.1 in /opt/conda/envs/Python-3.6/lib/python3.6/site-packages (from ibm-cos-sdk->watson-machine-learning-client-V4) (0.9.3)\nRequirement already satisfied: docutils<0.16,>=0.10 in /opt/conda/envs/Python-3.6/lib/python3.6/site-packages (from ibm-cos-sdk-core>=2.0.0->ibm-cos-sdk->watson-machine-learning-client-V4) (0.14)\n"
                }
            ],
            "source": "!pip install watson-machine-learning-client-V4"
        },
        {
            "cell_type": "code",
            "execution_count": 51,
            "metadata": {},
            "outputs": [],
            "source": "from watson_machine_learning_client import WatsonMachineLearningAPIClient"
        },
        {
            "cell_type": "code",
            "execution_count": 145,
            "metadata": {},
            "outputs": [
                {
                    "data": {
                        "text/plain": "'1.0.55'"
                    },
                    "execution_count": 145,
                    "metadata": {},
                    "output_type": "execute_result"
                }
            ],
            "source": "# Instantiate a client using credentials\nwml_credentials = {\n      \"apikey\": \"U6Tdly5-huIp8iMjOycw6_Vu9RZcBoOGcJ5PUiWZivPq\",\n      \"instance_id\": \"27ba5bdb-6d00-41d3-88a8-7dc39ae5945e\",\n      \"url\": \"https://us-south.ml.cloud.ibm.com\",\n}\n\nclient = WatsonMachineLearningAPIClient(wml_credentials)\nclient.version"
        },
        {
            "cell_type": "code",
            "execution_count": 53,
            "metadata": {},
            "outputs": [
                {
                    "name": "stdout",
                    "output_type": "stream",
                    "text": "Requirement already satisfied: ibm-db in /opt/conda/envs/Python-3.6/lib/python3.6/site-packages (2.0.9)\r\n"
                }
            ],
            "source": "!pip install ibm-db"
        },
        {
            "cell_type": "code",
            "execution_count": 99,
            "metadata": {},
            "outputs": [
                {
                    "data": {
                        "text/plain": "<bound method Connection.close of <ibm_db_dbi.Connection object at 0x7f241d1cc748>>"
                    },
                    "execution_count": 99,
                    "metadata": {},
                    "output_type": "execute_result"
                }
            ],
            "source": ""
        },
        {
            "cell_type": "code",
            "execution_count": 100,
            "metadata": {},
            "outputs": [],
            "source": "#Setup Connection to Db2 Instance\nimport ibm_db\nimport pandas as pd\nimport ibm_db_dbi\nimport numpy\n\n\ncnn = ibm_db.connect(\"DATABASE=BLUDB;HOSTNAME=worker2.clustera;PORT=31173;PROTOCOL=TCPIP;UID=user1042;PWD=oJ0T7#_U1-%mb1Wz;\", \"\", \"\")\nhdbi = ibm_db_dbi.Connection(cnn)\n"
        },
        {
            "cell_type": "code",
            "execution_count": 146,
            "metadata": {},
            "outputs": [
                {
                    "data": {
                        "text/html": "<div>\n<style scoped>\n    .dataframe tbody tr th:only-of-type {\n        vertical-align: middle;\n    }\n\n    .dataframe tbody tr th {\n        vertical-align: top;\n    }\n\n    .dataframe thead th {\n        text-align: right;\n    }\n</style>\n<table border=\"1\" class=\"dataframe\">\n  <thead>\n    <tr style=\"text-align: right;\">\n      <th></th>\n      <th>CITY</th>\n      <th>FCST_DEMAND_1_WK</th>\n      <th>CURR_INV</th>\n    </tr>\n  </thead>\n  <tbody>\n    <tr>\n      <th>0</th>\n      <td>CITY_ATLANTA</td>\n      <td>500</td>\n      <td>200</td>\n    </tr>\n    <tr>\n      <th>1</th>\n      <td>CITY_BOSTON</td>\n      <td>700</td>\n      <td>50</td>\n    </tr>\n    <tr>\n      <th>2</th>\n      <td>CITY_CHARLOTTE</td>\n      <td>100</td>\n      <td>45</td>\n    </tr>\n    <tr>\n      <th>3</th>\n      <td>CITY_CHICAGO</td>\n      <td>290</td>\n      <td>90</td>\n    </tr>\n    <tr>\n      <th>4</th>\n      <td>CITY_COLUMBUS</td>\n      <td>455</td>\n      <td>250</td>\n    </tr>\n    <tr>\n      <th>5</th>\n      <td>CITY_DALLAS</td>\n      <td>1000</td>\n      <td>100</td>\n    </tr>\n    <tr>\n      <th>6</th>\n      <td>CITY_DENVER</td>\n      <td>400</td>\n      <td>150</td>\n    </tr>\n    <tr>\n      <th>7</th>\n      <td>CITY_DETROIT</td>\n      <td>350</td>\n      <td>0</td>\n    </tr>\n    <tr>\n      <th>8</th>\n      <td>CITY_HOUSTON</td>\n      <td>375</td>\n      <td>25</td>\n    </tr>\n    <tr>\n      <th>9</th>\n      <td>CITY_LAS_VEGAS</td>\n      <td>675</td>\n      <td>350</td>\n    </tr>\n    <tr>\n      <th>10</th>\n      <td>CITY_LOS_ANGELES</td>\n      <td>200</td>\n      <td>25</td>\n    </tr>\n    <tr>\n      <th>11</th>\n      <td>CITY_MIAMI</td>\n      <td>475</td>\n      <td>125</td>\n    </tr>\n    <tr>\n      <th>12</th>\n      <td>CITY_MINNEAPOLIS</td>\n      <td>800</td>\n      <td>300</td>\n    </tr>\n    <tr>\n      <th>13</th>\n      <td>CITY_NASHVILLE</td>\n      <td>650</td>\n      <td>225</td>\n    </tr>\n    <tr>\n      <th>14</th>\n      <td>CITY_NEW_ORLEANS</td>\n      <td>512</td>\n      <td>280</td>\n    </tr>\n    <tr>\n      <th>15</th>\n      <td>CITY_NEW_YORK</td>\n      <td>550</td>\n      <td>280</td>\n    </tr>\n    <tr>\n      <th>16</th>\n      <td>CITY_OKLAHOMA_CITY</td>\n      <td>300</td>\n      <td>75</td>\n    </tr>\n    <tr>\n      <th>17</th>\n      <td>CITY_PHOENIX</td>\n      <td>1000</td>\n      <td>325</td>\n    </tr>\n    <tr>\n      <th>18</th>\n      <td>CITY_SACRAMENTO</td>\n      <td>900</td>\n      <td>445</td>\n    </tr>\n    <tr>\n      <th>19</th>\n      <td>CITY_SALT_LAKE_CITY</td>\n      <td>800</td>\n      <td>275</td>\n    </tr>\n    <tr>\n      <th>20</th>\n      <td>CITY_SAN_DIEGO</td>\n      <td>789</td>\n      <td>430</td>\n    </tr>\n    <tr>\n      <th>21</th>\n      <td>CITY_SAN_FRANCISCO</td>\n      <td>442</td>\n      <td>67</td>\n    </tr>\n    <tr>\n      <th>22</th>\n      <td>CITY_SEATTLE</td>\n      <td>372</td>\n      <td>30</td>\n    </tr>\n    <tr>\n      <th>23</th>\n      <td>CITY_ST_LOUIS</td>\n      <td>120</td>\n      <td>50</td>\n    </tr>\n    <tr>\n      <th>24</th>\n      <td>CITY_WICHITA</td>\n      <td>500</td>\n      <td>80</td>\n    </tr>\n  </tbody>\n</table>\n</div>",
                        "text/plain": "                   CITY  FCST_DEMAND_1_WK  CURR_INV\n0          CITY_ATLANTA               500       200\n1           CITY_BOSTON               700        50\n2        CITY_CHARLOTTE               100        45\n3          CITY_CHICAGO               290        90\n4         CITY_COLUMBUS               455       250\n5           CITY_DALLAS              1000       100\n6           CITY_DENVER               400       150\n7          CITY_DETROIT               350         0\n8          CITY_HOUSTON               375        25\n9        CITY_LAS_VEGAS               675       350\n10     CITY_LOS_ANGELES               200        25\n11           CITY_MIAMI               475       125\n12     CITY_MINNEAPOLIS               800       300\n13       CITY_NASHVILLE               650       225\n14     CITY_NEW_ORLEANS               512       280\n15        CITY_NEW_YORK               550       280\n16   CITY_OKLAHOMA_CITY               300        75\n17         CITY_PHOENIX              1000       325\n18      CITY_SACRAMENTO               900       445\n19  CITY_SALT_LAKE_CITY               800       275\n20       CITY_SAN_DIEGO               789       430\n21   CITY_SAN_FRANCISCO               442        67\n22         CITY_SEATTLE               372        30\n23        CITY_ST_LOUIS               120        50\n24         CITY_WICHITA               500        80"
                    },
                    "execution_count": 146,
                    "metadata": {},
                    "output_type": "execute_result"
                }
            ],
            "source": "#Read the table \nsql_read = 'SELECT * FROM PCSB.RTL_SOUP_LEDGER_TO_WORK'\n\nmarkets = pd.read_sql(sql_read, hdbi)\nmarkets"
        },
        {
            "cell_type": "code",
            "execution_count": null,
            "metadata": {},
            "outputs": [],
            "source": ""
        },
        {
            "cell_type": "code",
            "execution_count": 147,
            "metadata": {},
            "outputs": [],
            "source": "# We don't want the markets to have more material than their forecasted demand.  So capping the max ship\nmarkets['MAX_SHIP'] = markets['FCST_DEMAND_1_WK'] - markets['CURR_INV']\nmarkets.loc[markets['MAX_SHIP'] < 0, 'MAX_SHIP'] = 0\n# Total cases avaivlale for shipment is hardcoded for now.  Should really come from an external source\n"
        },
        {
            "cell_type": "code",
            "execution_count": 148,
            "metadata": {},
            "outputs": [],
            "source": "total_shipments = 4320\n"
        },
        {
            "cell_type": "code",
            "execution_count": 149,
            "metadata": {},
            "outputs": [],
            "source": "# Total current inventory, total demand and an overall optimum allocation ratio across all markets\ndef opt_allow_ratio(tot_shipments): \n    total_curr_inv = markets.CURR_INV.sum()\n    total_demand = markets.FCST_DEMAND_1_WK.sum()\n    opt_allow_ratio = (tot_shipments + total_curr_inv)/total_demand\n    return opt_allow_ratio"
        },
        {
            "cell_type": "code",
            "execution_count": 150,
            "metadata": {},
            "outputs": [
                {
                    "name": "stdout",
                    "output_type": "stream",
                    "text": "0.6482082233119577\n"
                }
            ],
            "source": "opt_allocation_ratio = opt_allow_ratio(total_shipments)\nprint(opt_allocation_ratio)"
        },
        {
            "cell_type": "code",
            "execution_count": 151,
            "metadata": {},
            "outputs": [],
            "source": "from docplex.mp.model import Model\n\n# Model\nmdl = Model(name='prs4b')\n\n# Create integer decision variables for shipments.  Lower bound is 0.  Upper bound is forecast - curr inv\nqty = markets.copy()\nqty['VAR'] = qty.apply(lambda x: mdl.integer_var(name=x['CITY'], ub = x['MAX_SHIP'], lb = 0), axis=1)\n# make the name the index\nqty.set_index('CITY', inplace=True)"
        },
        {
            "cell_type": "code",
            "execution_count": 152,
            "metadata": {},
            "outputs": [],
            "source": "# Create a dummy decision variable representing the diff in allocation ratio.\n# Need this dummy dvs to account for the fact that we need to minimize the sum of the absolute\n# differences between the allocation ratio in individual markets.  The presence of the \n# absolute number in the objective will make it non-linear. \n# If we have 25 markets, we will have 24 dvs.  DV for market 1 -> 2, DV for market 1 -> 3, \n# market 1 -> 3, etc to 1 - > 25\ndummy_dvs = pd.DataFrame({'CITY_A': [qty.index.values[0]]*(qty.shape[0])})\ndummy_dvs['CITY_B'] = qty.index.values\ndummy_dvs = dummy_dvs.loc[dummy_dvs['CITY_A'] != dummy_dvs['CITY_B']]\ndummy_dvs['IDX'] = 'DV_' + dummy_dvs['CITY_A'] + '_' + dummy_dvs['CITY_B']\ndummy_dvs['VAR'] = dummy_dvs.apply(lambda x: mdl.continuous_var(name = 'DV_' + x['CITY_A'] + '_' + x['CITY_B']), axis=1)\ndummy_dvs.set_index('IDX', inplace = True)"
        },
        {
            "cell_type": "code",
            "execution_count": 153,
            "metadata": {},
            "outputs": [
                {
                    "data": {
                        "text/html": "<div>\n<style scoped>\n    .dataframe tbody tr th:only-of-type {\n        vertical-align: middle;\n    }\n\n    .dataframe tbody tr th {\n        vertical-align: top;\n    }\n\n    .dataframe thead th {\n        text-align: right;\n    }\n</style>\n<table border=\"1\" class=\"dataframe\">\n  <thead>\n    <tr style=\"text-align: right;\">\n      <th></th>\n      <th>CITY_A</th>\n      <th>CITY_B</th>\n      <th>VAR</th>\n    </tr>\n    <tr>\n      <th>IDX</th>\n      <th></th>\n      <th></th>\n      <th></th>\n    </tr>\n  </thead>\n  <tbody>\n    <tr>\n      <th>DV_CITY_ATLANTA_CITY_BOSTON</th>\n      <td>CITY_ATLANTA</td>\n      <td>CITY_BOSTON</td>\n      <td>DV_CITY_ATLANTA_CITY_BOSTON</td>\n    </tr>\n    <tr>\n      <th>DV_CITY_ATLANTA_CITY_CHARLOTTE</th>\n      <td>CITY_ATLANTA</td>\n      <td>CITY_CHARLOTTE</td>\n      <td>DV_CITY_ATLANTA_CITY_CHARLOTTE</td>\n    </tr>\n    <tr>\n      <th>DV_CITY_ATLANTA_CITY_CHICAGO</th>\n      <td>CITY_ATLANTA</td>\n      <td>CITY_CHICAGO</td>\n      <td>DV_CITY_ATLANTA_CITY_CHICAGO</td>\n    </tr>\n    <tr>\n      <th>DV_CITY_ATLANTA_CITY_COLUMBUS</th>\n      <td>CITY_ATLANTA</td>\n      <td>CITY_COLUMBUS</td>\n      <td>DV_CITY_ATLANTA_CITY_COLUMBUS</td>\n    </tr>\n    <tr>\n      <th>DV_CITY_ATLANTA_CITY_DALLAS</th>\n      <td>CITY_ATLANTA</td>\n      <td>CITY_DALLAS</td>\n      <td>DV_CITY_ATLANTA_CITY_DALLAS</td>\n    </tr>\n  </tbody>\n</table>\n</div>",
                        "text/plain": "                                      CITY_A          CITY_B  \\\nIDX                                                            \nDV_CITY_ATLANTA_CITY_BOSTON     CITY_ATLANTA     CITY_BOSTON   \nDV_CITY_ATLANTA_CITY_CHARLOTTE  CITY_ATLANTA  CITY_CHARLOTTE   \nDV_CITY_ATLANTA_CITY_CHICAGO    CITY_ATLANTA    CITY_CHICAGO   \nDV_CITY_ATLANTA_CITY_COLUMBUS   CITY_ATLANTA   CITY_COLUMBUS   \nDV_CITY_ATLANTA_CITY_DALLAS     CITY_ATLANTA     CITY_DALLAS   \n\n                                                           VAR  \nIDX                                                             \nDV_CITY_ATLANTA_CITY_BOSTON        DV_CITY_ATLANTA_CITY_BOSTON  \nDV_CITY_ATLANTA_CITY_CHARLOTTE  DV_CITY_ATLANTA_CITY_CHARLOTTE  \nDV_CITY_ATLANTA_CITY_CHICAGO      DV_CITY_ATLANTA_CITY_CHICAGO  \nDV_CITY_ATLANTA_CITY_COLUMBUS    DV_CITY_ATLANTA_CITY_COLUMBUS  \nDV_CITY_ATLANTA_CITY_DALLAS        DV_CITY_ATLANTA_CITY_DALLAS  "
                    },
                    "execution_count": 153,
                    "metadata": {},
                    "output_type": "execute_result"
                }
            ],
            "source": "dummy_dvs.head()"
        },
        {
            "cell_type": "code",
            "execution_count": 154,
            "metadata": {},
            "outputs": [
                {
                    "data": {
                        "text/plain": "[docplex.mp.LinearConstraint[](-0.002CITY_ATLANTA+0.001CITY_BOSTON-0.329,LE,DV_CITY_ATLANTA_CITY_BOSTON),\n docplex.mp.LinearConstraint[](-0.002CITY_ATLANTA+0.010CITY_CHARLOTTE+0.050,LE,DV_CITY_ATLANTA_CITY_CHARLOTTE),\n docplex.mp.LinearConstraint[](-0.002CITY_ATLANTA+0.003CITY_CHICAGO-0.090,LE,DV_CITY_ATLANTA_CITY_CHICAGO),\n docplex.mp.LinearConstraint[](-0.002CITY_ATLANTA+0.002CITY_COLUMBUS+0.149,LE,DV_CITY_ATLANTA_CITY_COLUMBUS),\n docplex.mp.LinearConstraint[](-0.002CITY_ATLANTA+0.001CITY_DALLAS-0.300,LE,DV_CITY_ATLANTA_CITY_DALLAS),\n docplex.mp.LinearConstraint[](-0.002CITY_ATLANTA+0.003CITY_DENVER-0.025,LE,DV_CITY_ATLANTA_CITY_DENVER),\n docplex.mp.LinearConstraint[](-0.002CITY_ATLANTA+0.003CITY_DETROIT-0.400,LE,DV_CITY_ATLANTA_CITY_DETROIT),\n docplex.mp.LinearConstraint[](-0.002CITY_ATLANTA+0.003CITY_HOUSTON-0.333,LE,DV_CITY_ATLANTA_CITY_HOUSTON),\n docplex.mp.LinearConstraint[](-0.002CITY_ATLANTA+0.001CITY_LAS_VEGAS+0.119,LE,DV_CITY_ATLANTA_CITY_LAS_VEGAS),\n docplex.mp.LinearConstraint[](-0.002CITY_ATLANTA+0.005CITY_LOS_ANGELES-0.275,LE,DV_CITY_ATLANTA_CITY_LOS_ANGELES),\n docplex.mp.LinearConstraint[](-0.002CITY_ATLANTA+0.002CITY_MIAMI-0.137,LE,DV_CITY_ATLANTA_CITY_MIAMI),\n docplex.mp.LinearConstraint[](-0.002CITY_ATLANTA+0.001CITY_MINNEAPOLIS-0.025,LE,DV_CITY_ATLANTA_CITY_MINNEAPOLIS),\n docplex.mp.LinearConstraint[](-0.002CITY_ATLANTA+0.002CITY_NASHVILLE-0.054,LE,DV_CITY_ATLANTA_CITY_NASHVILLE),\n docplex.mp.LinearConstraint[](-0.002CITY_ATLANTA+0.002CITY_NEW_ORLEANS+0.147,LE,DV_CITY_ATLANTA_CITY_NEW_ORLEANS),\n docplex.mp.LinearConstraint[](-0.002CITY_ATLANTA+0.002CITY_NEW_YORK+0.109,LE,DV_CITY_ATLANTA_CITY_NEW_YORK),\n docplex.mp.LinearConstraint[](-0.002CITY_ATLANTA+0.003CITY_OKLAHOMA_CITY-0.150,LE,DV_CITY_ATLANTA_CITY_OKLAHOMA_CITY),\n docplex.mp.LinearConstraint[](-0.002CITY_ATLANTA+0.001CITY_PHOENIX-0.075,LE,DV_CITY_ATLANTA_CITY_PHOENIX),\n docplex.mp.LinearConstraint[](-0.002CITY_ATLANTA+0.001CITY_SACRAMENTO+0.094,LE,DV_CITY_ATLANTA_CITY_SACRAMENTO),\n docplex.mp.LinearConstraint[](-0.002CITY_ATLANTA+0.001CITY_SALT_LAKE_CITY-0.056,LE,DV_CITY_ATLANTA_CITY_SALT_LAKE_CITY),\n docplex.mp.LinearConstraint[](-0.002CITY_ATLANTA+0.001CITY_SAN_DIEGO+0.145,LE,DV_CITY_ATLANTA_CITY_SAN_DIEGO),\n docplex.mp.LinearConstraint[](-0.002CITY_ATLANTA+0.002CITY_SAN_FRANCISCO-0.248,LE,DV_CITY_ATLANTA_CITY_SAN_FRANCISCO),\n docplex.mp.LinearConstraint[](-0.002CITY_ATLANTA+0.003CITY_SEATTLE-0.319,LE,DV_CITY_ATLANTA_CITY_SEATTLE),\n docplex.mp.LinearConstraint[](-0.002CITY_ATLANTA+0.008CITY_ST_LOUIS+0.017,LE,DV_CITY_ATLANTA_CITY_ST_LOUIS),\n docplex.mp.LinearConstraint[](-0.002CITY_ATLANTA+0.002CITY_WICHITA-0.240,LE,DV_CITY_ATLANTA_CITY_WICHITA)]"
                    },
                    "execution_count": 154,
                    "metadata": {},
                    "output_type": "execute_result"
                }
            ],
            "source": "# Add constraints\n# Total shipment across all markets cannot exceed total available product from suppier\nmdl.add_constraint(mdl.sum(qty.loc[m.CITY]['VAR'] for m in markets.itertuples())<= total_shipments, 'CT_Total_Shipment')\nmdl.add_constraints( \\\n                    (((mdl.sum([qty.loc[d[1]]['VAR'], qty.loc[d[1]]['CURR_INV']]))/qty.loc[d[1]]['FCST_DEMAND_1_WK'] - \\\n                      (mdl.sum([qty.loc[d[2]]['VAR'], qty.loc[d[2]]['CURR_INV']]))/qty.loc[d[2]]['FCST_DEMAND_1_WK']) \\\n                     <= d[3]) for d in dummy_dvs.itertuples())\nmdl.add_constraints( \\\n                    (-1*((mdl.sum([qty.loc[d[1]]['VAR'], qty.loc[d[1]]['CURR_INV']]))/qty.loc[d[1]]['FCST_DEMAND_1_WK'] - \\\n                      (mdl.sum([qty.loc[d[2]]['VAR'], qty.loc[d[2]]['CURR_INV']]))/qty.loc[d[2]]['FCST_DEMAND_1_WK']) \\\n                     <= d[3]) for d in dummy_dvs.itertuples())"
        },
        {
            "cell_type": "code",
            "execution_count": 155,
            "metadata": {},
            "outputs": [],
            "source": "# Define the objective function \ntotal_ratio = mdl.sum((-1*(qty.loc[m.CITY]['VAR'] + m.CURR_INV)/m.FCST_DEMAND_1_WK) for m in markets.itertuples())\ntotal_dummy_vars = mdl.sum((d[3]) for d in dummy_dvs.itertuples())\nmdl.add_kpi(-1*(total_ratio/25), publish_name=\"Total Allocation Ratio\")\nmdl.add_kpi(total_dummy_vars, publish_name=\"Total Shortage Ratio\")\nmdl.minimize(total_ratio + total_dummy_vars)"
        },
        {
            "cell_type": "code",
            "execution_count": null,
            "metadata": {},
            "outputs": [],
            "source": ""
        },
        {
            "cell_type": "code",
            "execution_count": 156,
            "metadata": {},
            "outputs": [],
            "source": "#Creating KPIS\nfor n in markets.itertuples():\n    shortage_ratio_with_var = ((qty.loc[n.CITY]['FCST_DEMAND_1_WK']-(qty.loc[n.CITY]['CURR_INV']))-qty.loc[n.CITY]['VAR'])/qty.loc[n.CITY]['FCST_DEMAND_1_WK']\n    \n    mdl.add_kpi(shortage_ratio_with_var, publish_name='Shortage percentage %s' % n.CITY)\n"
        },
        {
            "cell_type": "code",
            "execution_count": null,
            "metadata": {},
            "outputs": [],
            "source": ""
        },
        {
            "cell_type": "code",
            "execution_count": 157,
            "metadata": {},
            "outputs": [
                {
                    "name": "stdout",
                    "output_type": "stream",
                    "text": "Model: prs4b\n - number of variables: 49\n   - binary=0, integer=25, continuous=24\n - number of constraints: 49\n   - linear=49\n - parameters: defaults\n - problem type is: MILP\n"
                }
            ],
            "source": "mdl.print_information()"
        },
        {
            "cell_type": "code",
            "execution_count": 158,
            "metadata": {},
            "outputs": [
                {
                    "name": "stdout",
                    "output_type": "stream",
                    "text": "objective: -16.195\n  CITY_ATLANTA=125\n  CITY_BOSTON=405\n  CITY_CHARLOTTE=20\n  CITY_CHICAGO=99\n  CITY_COLUMBUS=46\n  CITY_DALLAS=526\n  CITY_DENVER=110\n  CITY_DETROIT=228\n  CITY_HOUSTON=219\n  CITY_LAS_VEGAS=89\n  CITY_LOS_ANGELES=105\n  CITY_MIAMI=184\n  CITY_MINNEAPOLIS=220\n  CITY_NASHVILLE=197\n  CITY_NEW_ORLEANS=53\n  CITY_NEW_YORK=77\n  CITY_OKLAHOMA_CITY=120\n  CITY_PHOENIX=325\n  CITY_SACRAMENTO=140\n  CITY_SALT_LAKE_CITY=245\n  CITY_SAN_DIEGO=82\n  CITY_SAN_FRANCISCO=220\n  CITY_SEATTLE=212\n  CITY_ST_LOUIS=28\n  CITY_WICHITA=245\n  DV_CITY_ATLANTA_CITY_CHICAGO=0.002\n  DV_CITY_ATLANTA_CITY_COLUMBUS=0.001\n  DV_CITY_ATLANTA_CITY_DALLAS=0.024\n  DV_CITY_ATLANTA_CITY_DETROIT=0.001\n  DV_CITY_ATLANTA_CITY_HOUSTON=0.001\n  DV_CITY_ATLANTA_CITY_LAS_VEGAS=0.000\n  DV_CITY_ATLANTA_CITY_MIAMI=0.001\n  DV_CITY_ATLANTA_CITY_NASHVILLE=0.001\n  DV_CITY_ATLANTA_CITY_NEW_ORLEANS=0.000\n  DV_CITY_ATLANTA_CITY_NEW_YORK=0.001\n  DV_CITY_ATLANTA_CITY_SAN_DIEGO=0.001\n  DV_CITY_ATLANTA_CITY_SAN_FRANCISCO=0.001\n  DV_CITY_ATLANTA_CITY_SEATTLE=0.001\n"
                }
            ],
            "source": "# solve\nok = mdl.solve()\n\nmdl.print_solution()\n"
        },
        {
            "cell_type": "code",
            "execution_count": 159,
            "metadata": {},
            "outputs": [
                {
                    "name": "stdout",
                    "output_type": "stream",
                    "text": "* model prs4b solved with objective = -16.195\n*  KPI: Total Allocation Ratio                  = 0.649\n*  KPI: Total Shortage Ratio                    = 0.034\n*  KPI: Shortage percentage CITY_ATLANTA        = 0.350\n*  KPI: Shortage percentage CITY_BOSTON         = 0.350\n*  KPI: Shortage percentage CITY_CHARLOTTE      = 0.350\n*  KPI: Shortage percentage CITY_CHICAGO        = 0.348\n*  KPI: Shortage percentage CITY_COLUMBUS       = 0.349\n*  KPI: Shortage percentage CITY_DALLAS         = 0.374\n*  KPI: Shortage percentage CITY_DENVER         = 0.350\n*  KPI: Shortage percentage CITY_DETROIT        = 0.349\n*  KPI: Shortage percentage CITY_HOUSTON        = 0.349\n*  KPI: Shortage percentage CITY_LAS_VEGAS      = 0.350\n*  KPI: Shortage percentage CITY_LOS_ANGELES    = 0.350\n*  KPI: Shortage percentage CITY_MIAMI          = 0.349\n*  KPI: Shortage percentage CITY_MINNEAPOLIS    = 0.350\n*  KPI: Shortage percentage CITY_NASHVILLE      = 0.351\n*  KPI: Shortage percentage CITY_NEW_ORLEANS    = 0.350\n*  KPI: Shortage percentage CITY_NEW_YORK       = 0.351\n*  KPI: Shortage percentage CITY_OKLAHOMA_CITY  = 0.350\n*  KPI: Shortage percentage CITY_PHOENIX        = 0.350\n*  KPI: Shortage percentage CITY_SACRAMENTO     = 0.350\n*  KPI: Shortage percentage CITY_SALT_LAKE_CITY = 0.350\n*  KPI: Shortage percentage CITY_SAN_DIEGO      = 0.351\n*  KPI: Shortage percentage CITY_SAN_FRANCISCO  = 0.351\n*  KPI: Shortage percentage CITY_SEATTLE        = 0.349\n*  KPI: Shortage percentage CITY_ST_LOUIS       = 0.350\n*  KPI: Shortage percentage CITY_WICHITA        = 0.350\n"
                }
            ],
            "source": "mdl.report()"
        },
        {
            "cell_type": "code",
            "execution_count": 161,
            "metadata": {},
            "outputs": [
                {
                    "data": {
                        "text/html": "<div>\n<style scoped>\n    .dataframe tbody tr th:only-of-type {\n        vertical-align: middle;\n    }\n\n    .dataframe tbody tr th {\n        vertical-align: top;\n    }\n\n    .dataframe thead th {\n        text-align: right;\n    }\n</style>\n<table border=\"1\" class=\"dataframe\">\n  <thead>\n    <tr style=\"text-align: right;\">\n      <th></th>\n      <th>CITY</th>\n      <th>SHIPMENT_QTY</th>\n      <th>SCENARIO</th>\n      <th>PERCENT</th>\n      <th>ACTION</th>\n      <th>MODIFIED_TIMESTAMP</th>\n    </tr>\n  </thead>\n  <tbody>\n    <tr>\n      <th>0</th>\n      <td>CITY_ATLANTA</td>\n      <td>125.0</td>\n      <td>OPTIMIZED</td>\n      <td>0.0</td>\n      <td></td>\n      <td>2020-04-09 16:11:51.527930</td>\n    </tr>\n    <tr>\n      <th>1</th>\n      <td>CITY_BOSTON</td>\n      <td>405.0</td>\n      <td>OPTIMIZED</td>\n      <td>0.0</td>\n      <td></td>\n      <td>2020-04-09 16:11:51.537901</td>\n    </tr>\n    <tr>\n      <th>2</th>\n      <td>CITY_CHARLOTTE</td>\n      <td>20.0</td>\n      <td>OPTIMIZED</td>\n      <td>0.0</td>\n      <td></td>\n      <td>2020-04-09 16:11:51.545235</td>\n    </tr>\n    <tr>\n      <th>3</th>\n      <td>CITY_CHICAGO</td>\n      <td>99.0</td>\n      <td>OPTIMIZED</td>\n      <td>0.0</td>\n      <td></td>\n      <td>2020-04-09 16:11:51.551920</td>\n    </tr>\n    <tr>\n      <th>4</th>\n      <td>CITY_COLUMBUS</td>\n      <td>46.0</td>\n      <td>OPTIMIZED</td>\n      <td>0.0</td>\n      <td></td>\n      <td>2020-04-09 16:11:51.558987</td>\n    </tr>\n    <tr>\n      <th>5</th>\n      <td>CITY_DALLAS</td>\n      <td>526.0</td>\n      <td>OPTIMIZED</td>\n      <td>0.0</td>\n      <td></td>\n      <td>2020-04-09 16:11:51.572924</td>\n    </tr>\n    <tr>\n      <th>6</th>\n      <td>CITY_DENVER</td>\n      <td>110.0</td>\n      <td>OPTIMIZED</td>\n      <td>0.0</td>\n      <td></td>\n      <td>2020-04-09 16:11:51.581795</td>\n    </tr>\n    <tr>\n      <th>7</th>\n      <td>CITY_DETROIT</td>\n      <td>228.0</td>\n      <td>OPTIMIZED</td>\n      <td>0.0</td>\n      <td></td>\n      <td>2020-04-09 16:11:51.588960</td>\n    </tr>\n    <tr>\n      <th>8</th>\n      <td>CITY_HOUSTON</td>\n      <td>219.0</td>\n      <td>OPTIMIZED</td>\n      <td>0.0</td>\n      <td></td>\n      <td>2020-04-09 16:11:51.596794</td>\n    </tr>\n    <tr>\n      <th>9</th>\n      <td>CITY_LAS_VEGAS</td>\n      <td>89.0</td>\n      <td>OPTIMIZED</td>\n      <td>0.0</td>\n      <td></td>\n      <td>2020-04-09 16:11:51.604146</td>\n    </tr>\n    <tr>\n      <th>10</th>\n      <td>CITY_LOS_ANGELES</td>\n      <td>105.0</td>\n      <td>OPTIMIZED</td>\n      <td>0.0</td>\n      <td></td>\n      <td>2020-04-09 16:11:51.610789</td>\n    </tr>\n    <tr>\n      <th>11</th>\n      <td>CITY_MIAMI</td>\n      <td>184.0</td>\n      <td>OPTIMIZED</td>\n      <td>0.0</td>\n      <td></td>\n      <td>2020-04-09 16:11:51.617454</td>\n    </tr>\n    <tr>\n      <th>12</th>\n      <td>CITY_MINNEAPOLIS</td>\n      <td>220.0</td>\n      <td>OPTIMIZED</td>\n      <td>0.0</td>\n      <td></td>\n      <td>2020-04-09 16:11:51.624096</td>\n    </tr>\n    <tr>\n      <th>13</th>\n      <td>CITY_NASHVILLE</td>\n      <td>197.0</td>\n      <td>OPTIMIZED</td>\n      <td>0.0</td>\n      <td></td>\n      <td>2020-04-09 16:11:51.630891</td>\n    </tr>\n    <tr>\n      <th>14</th>\n      <td>CITY_NEW_ORLEANS</td>\n      <td>53.0</td>\n      <td>OPTIMIZED</td>\n      <td>0.0</td>\n      <td></td>\n      <td>2020-04-09 16:11:51.638431</td>\n    </tr>\n    <tr>\n      <th>15</th>\n      <td>CITY_NEW_YORK</td>\n      <td>77.0</td>\n      <td>OPTIMIZED</td>\n      <td>0.0</td>\n      <td></td>\n      <td>2020-04-09 16:11:51.645076</td>\n    </tr>\n    <tr>\n      <th>16</th>\n      <td>CITY_OKLAHOMA_CITY</td>\n      <td>120.0</td>\n      <td>OPTIMIZED</td>\n      <td>0.0</td>\n      <td></td>\n      <td>2020-04-09 16:11:51.651799</td>\n    </tr>\n    <tr>\n      <th>17</th>\n      <td>CITY_PHOENIX</td>\n      <td>325.0</td>\n      <td>OPTIMIZED</td>\n      <td>0.0</td>\n      <td></td>\n      <td>2020-04-09 16:11:51.658445</td>\n    </tr>\n    <tr>\n      <th>18</th>\n      <td>CITY_SACRAMENTO</td>\n      <td>140.0</td>\n      <td>OPTIMIZED</td>\n      <td>0.0</td>\n      <td></td>\n      <td>2020-04-09 16:11:51.665372</td>\n    </tr>\n    <tr>\n      <th>19</th>\n      <td>CITY_SALT_LAKE_CITY</td>\n      <td>245.0</td>\n      <td>OPTIMIZED</td>\n      <td>0.0</td>\n      <td></td>\n      <td>2020-04-09 16:11:51.672036</td>\n    </tr>\n    <tr>\n      <th>20</th>\n      <td>CITY_SAN_DIEGO</td>\n      <td>82.0</td>\n      <td>OPTIMIZED</td>\n      <td>0.0</td>\n      <td></td>\n      <td>2020-04-09 16:11:51.678720</td>\n    </tr>\n    <tr>\n      <th>21</th>\n      <td>CITY_SAN_FRANCISCO</td>\n      <td>220.0</td>\n      <td>OPTIMIZED</td>\n      <td>0.0</td>\n      <td></td>\n      <td>2020-04-09 16:11:51.685385</td>\n    </tr>\n    <tr>\n      <th>22</th>\n      <td>CITY_SEATTLE</td>\n      <td>212.0</td>\n      <td>OPTIMIZED</td>\n      <td>0.0</td>\n      <td></td>\n      <td>2020-04-09 16:11:51.692052</td>\n    </tr>\n    <tr>\n      <th>23</th>\n      <td>CITY_ST_LOUIS</td>\n      <td>28.0</td>\n      <td>OPTIMIZED</td>\n      <td>0.0</td>\n      <td></td>\n      <td>2020-04-09 16:11:51.698611</td>\n    </tr>\n    <tr>\n      <th>24</th>\n      <td>CITY_WICHITA</td>\n      <td>245.0</td>\n      <td>OPTIMIZED</td>\n      <td>0.0</td>\n      <td></td>\n      <td>2020-04-09 16:11:51.705212</td>\n    </tr>\n  </tbody>\n</table>\n</div>",
                        "text/plain": "                   CITY  SHIPMENT_QTY   SCENARIO  PERCENT ACTION  \\\n0          CITY_ATLANTA         125.0  OPTIMIZED      0.0          \n1           CITY_BOSTON         405.0  OPTIMIZED      0.0          \n2        CITY_CHARLOTTE          20.0  OPTIMIZED      0.0          \n3          CITY_CHICAGO          99.0  OPTIMIZED      0.0          \n4         CITY_COLUMBUS          46.0  OPTIMIZED      0.0          \n5           CITY_DALLAS         526.0  OPTIMIZED      0.0          \n6           CITY_DENVER         110.0  OPTIMIZED      0.0          \n7          CITY_DETROIT         228.0  OPTIMIZED      0.0          \n8          CITY_HOUSTON         219.0  OPTIMIZED      0.0          \n9        CITY_LAS_VEGAS          89.0  OPTIMIZED      0.0          \n10     CITY_LOS_ANGELES         105.0  OPTIMIZED      0.0          \n11           CITY_MIAMI         184.0  OPTIMIZED      0.0          \n12     CITY_MINNEAPOLIS         220.0  OPTIMIZED      0.0          \n13       CITY_NASHVILLE         197.0  OPTIMIZED      0.0          \n14     CITY_NEW_ORLEANS          53.0  OPTIMIZED      0.0          \n15        CITY_NEW_YORK          77.0  OPTIMIZED      0.0          \n16   CITY_OKLAHOMA_CITY         120.0  OPTIMIZED      0.0          \n17         CITY_PHOENIX         325.0  OPTIMIZED      0.0          \n18      CITY_SACRAMENTO         140.0  OPTIMIZED      0.0          \n19  CITY_SALT_LAKE_CITY         245.0  OPTIMIZED      0.0          \n20       CITY_SAN_DIEGO          82.0  OPTIMIZED      0.0          \n21   CITY_SAN_FRANCISCO         220.0  OPTIMIZED      0.0          \n22         CITY_SEATTLE         212.0  OPTIMIZED      0.0          \n23        CITY_ST_LOUIS          28.0  OPTIMIZED      0.0          \n24         CITY_WICHITA         245.0  OPTIMIZED      0.0          \n\n           MODIFIED_TIMESTAMP  \n0  2020-04-09 16:11:51.527930  \n1  2020-04-09 16:11:51.537901  \n2  2020-04-09 16:11:51.545235  \n3  2020-04-09 16:11:51.551920  \n4  2020-04-09 16:11:51.558987  \n5  2020-04-09 16:11:51.572924  \n6  2020-04-09 16:11:51.581795  \n7  2020-04-09 16:11:51.588960  \n8  2020-04-09 16:11:51.596794  \n9  2020-04-09 16:11:51.604146  \n10 2020-04-09 16:11:51.610789  \n11 2020-04-09 16:11:51.617454  \n12 2020-04-09 16:11:51.624096  \n13 2020-04-09 16:11:51.630891  \n14 2020-04-09 16:11:51.638431  \n15 2020-04-09 16:11:51.645076  \n16 2020-04-09 16:11:51.651799  \n17 2020-04-09 16:11:51.658445  \n18 2020-04-09 16:11:51.665372  \n19 2020-04-09 16:11:51.672036  \n20 2020-04-09 16:11:51.678720  \n21 2020-04-09 16:11:51.685385  \n22 2020-04-09 16:11:51.692052  \n23 2020-04-09 16:11:51.698611  \n24 2020-04-09 16:11:51.705212  "
                    },
                    "execution_count": 161,
                    "metadata": {},
                    "output_type": "execute_result"
                }
            ],
            "source": "solution_df = pd.DataFrame(columns=['CITY', 'SHIPMENT_QTY'])\n\nfor index, dvar in enumerate(mdl.solution.iter_variables()):\n    if(not dvar.to_string().startswith('DV_')):\n        solution_df.loc[index,'CITY'] = dvar.to_string()\n        solution_df.loc[index,'SHIPMENT_QTY'] = dvar.solution_value\n        solution_df.loc[index,'SCENARIO'] = 'OPTIMIZED'\n        solution_df.loc[index,'PERCENT'] = 0\n        solution_df.loc[index,'ACTION'] = ''\n        solution_df.loc[index, 'MODIFIED_TIMESTAMP'] = pd.Timestamp.now()\n\n#dd-cell\nsolution_df\n"
        },
        {
            "cell_type": "code",
            "execution_count": 162,
            "metadata": {},
            "outputs": [
                {
                    "data": {
                        "text/html": "<div>\n<style scoped>\n    .dataframe tbody tr th:only-of-type {\n        vertical-align: middle;\n    }\n\n    .dataframe tbody tr th {\n        vertical-align: top;\n    }\n\n    .dataframe thead th {\n        text-align: right;\n    }\n</style>\n<table border=\"1\" class=\"dataframe\">\n  <thead>\n    <tr style=\"text-align: right;\">\n      <th></th>\n      <th>CITY</th>\n      <th>FCST_DEMAND_1_WK</th>\n      <th>CURR_INV</th>\n      <th>SHIPMENT_QTY</th>\n      <th>SCENARIO</th>\n      <th>PERCENT</th>\n      <th>ACTION</th>\n      <th>MODIFIED_TIMESTAMP</th>\n    </tr>\n  </thead>\n  <tbody>\n    <tr>\n      <th>0</th>\n      <td>CITY_ATLANTA</td>\n      <td>500</td>\n      <td>200</td>\n      <td>125.0</td>\n      <td>OPTIMIZED</td>\n      <td>0.0</td>\n      <td></td>\n      <td>2020-04-09 16:11:51.527930</td>\n    </tr>\n    <tr>\n      <th>1</th>\n      <td>CITY_BOSTON</td>\n      <td>700</td>\n      <td>50</td>\n      <td>405.0</td>\n      <td>OPTIMIZED</td>\n      <td>0.0</td>\n      <td></td>\n      <td>2020-04-09 16:11:51.537901</td>\n    </tr>\n    <tr>\n      <th>2</th>\n      <td>CITY_CHARLOTTE</td>\n      <td>100</td>\n      <td>45</td>\n      <td>20.0</td>\n      <td>OPTIMIZED</td>\n      <td>0.0</td>\n      <td></td>\n      <td>2020-04-09 16:11:51.545235</td>\n    </tr>\n    <tr>\n      <th>3</th>\n      <td>CITY_CHICAGO</td>\n      <td>290</td>\n      <td>90</td>\n      <td>99.0</td>\n      <td>OPTIMIZED</td>\n      <td>0.0</td>\n      <td></td>\n      <td>2020-04-09 16:11:51.551920</td>\n    </tr>\n    <tr>\n      <th>4</th>\n      <td>CITY_COLUMBUS</td>\n      <td>455</td>\n      <td>250</td>\n      <td>46.0</td>\n      <td>OPTIMIZED</td>\n      <td>0.0</td>\n      <td></td>\n      <td>2020-04-09 16:11:51.558987</td>\n    </tr>\n    <tr>\n      <th>5</th>\n      <td>CITY_DALLAS</td>\n      <td>1000</td>\n      <td>100</td>\n      <td>526.0</td>\n      <td>OPTIMIZED</td>\n      <td>0.0</td>\n      <td></td>\n      <td>2020-04-09 16:11:51.572924</td>\n    </tr>\n    <tr>\n      <th>6</th>\n      <td>CITY_DENVER</td>\n      <td>400</td>\n      <td>150</td>\n      <td>110.0</td>\n      <td>OPTIMIZED</td>\n      <td>0.0</td>\n      <td></td>\n      <td>2020-04-09 16:11:51.581795</td>\n    </tr>\n    <tr>\n      <th>7</th>\n      <td>CITY_DETROIT</td>\n      <td>350</td>\n      <td>0</td>\n      <td>228.0</td>\n      <td>OPTIMIZED</td>\n      <td>0.0</td>\n      <td></td>\n      <td>2020-04-09 16:11:51.588960</td>\n    </tr>\n    <tr>\n      <th>8</th>\n      <td>CITY_HOUSTON</td>\n      <td>375</td>\n      <td>25</td>\n      <td>219.0</td>\n      <td>OPTIMIZED</td>\n      <td>0.0</td>\n      <td></td>\n      <td>2020-04-09 16:11:51.596794</td>\n    </tr>\n    <tr>\n      <th>9</th>\n      <td>CITY_LAS_VEGAS</td>\n      <td>675</td>\n      <td>350</td>\n      <td>89.0</td>\n      <td>OPTIMIZED</td>\n      <td>0.0</td>\n      <td></td>\n      <td>2020-04-09 16:11:51.604146</td>\n    </tr>\n    <tr>\n      <th>10</th>\n      <td>CITY_LOS_ANGELES</td>\n      <td>200</td>\n      <td>25</td>\n      <td>105.0</td>\n      <td>OPTIMIZED</td>\n      <td>0.0</td>\n      <td></td>\n      <td>2020-04-09 16:11:51.610789</td>\n    </tr>\n    <tr>\n      <th>11</th>\n      <td>CITY_MIAMI</td>\n      <td>475</td>\n      <td>125</td>\n      <td>184.0</td>\n      <td>OPTIMIZED</td>\n      <td>0.0</td>\n      <td></td>\n      <td>2020-04-09 16:11:51.617454</td>\n    </tr>\n    <tr>\n      <th>12</th>\n      <td>CITY_MINNEAPOLIS</td>\n      <td>800</td>\n      <td>300</td>\n      <td>220.0</td>\n      <td>OPTIMIZED</td>\n      <td>0.0</td>\n      <td></td>\n      <td>2020-04-09 16:11:51.624096</td>\n    </tr>\n    <tr>\n      <th>13</th>\n      <td>CITY_NASHVILLE</td>\n      <td>650</td>\n      <td>225</td>\n      <td>197.0</td>\n      <td>OPTIMIZED</td>\n      <td>0.0</td>\n      <td></td>\n      <td>2020-04-09 16:11:51.630891</td>\n    </tr>\n    <tr>\n      <th>14</th>\n      <td>CITY_NEW_ORLEANS</td>\n      <td>512</td>\n      <td>280</td>\n      <td>53.0</td>\n      <td>OPTIMIZED</td>\n      <td>0.0</td>\n      <td></td>\n      <td>2020-04-09 16:11:51.638431</td>\n    </tr>\n    <tr>\n      <th>15</th>\n      <td>CITY_NEW_YORK</td>\n      <td>550</td>\n      <td>280</td>\n      <td>77.0</td>\n      <td>OPTIMIZED</td>\n      <td>0.0</td>\n      <td></td>\n      <td>2020-04-09 16:11:51.645076</td>\n    </tr>\n    <tr>\n      <th>16</th>\n      <td>CITY_OKLAHOMA_CITY</td>\n      <td>300</td>\n      <td>75</td>\n      <td>120.0</td>\n      <td>OPTIMIZED</td>\n      <td>0.0</td>\n      <td></td>\n      <td>2020-04-09 16:11:51.651799</td>\n    </tr>\n    <tr>\n      <th>17</th>\n      <td>CITY_PHOENIX</td>\n      <td>1000</td>\n      <td>325</td>\n      <td>325.0</td>\n      <td>OPTIMIZED</td>\n      <td>0.0</td>\n      <td></td>\n      <td>2020-04-09 16:11:51.658445</td>\n    </tr>\n    <tr>\n      <th>18</th>\n      <td>CITY_SACRAMENTO</td>\n      <td>900</td>\n      <td>445</td>\n      <td>140.0</td>\n      <td>OPTIMIZED</td>\n      <td>0.0</td>\n      <td></td>\n      <td>2020-04-09 16:11:51.665372</td>\n    </tr>\n    <tr>\n      <th>19</th>\n      <td>CITY_SALT_LAKE_CITY</td>\n      <td>800</td>\n      <td>275</td>\n      <td>245.0</td>\n      <td>OPTIMIZED</td>\n      <td>0.0</td>\n      <td></td>\n      <td>2020-04-09 16:11:51.672036</td>\n    </tr>\n    <tr>\n      <th>20</th>\n      <td>CITY_SAN_DIEGO</td>\n      <td>789</td>\n      <td>430</td>\n      <td>82.0</td>\n      <td>OPTIMIZED</td>\n      <td>0.0</td>\n      <td></td>\n      <td>2020-04-09 16:11:51.678720</td>\n    </tr>\n    <tr>\n      <th>21</th>\n      <td>CITY_SAN_FRANCISCO</td>\n      <td>442</td>\n      <td>67</td>\n      <td>220.0</td>\n      <td>OPTIMIZED</td>\n      <td>0.0</td>\n      <td></td>\n      <td>2020-04-09 16:11:51.685385</td>\n    </tr>\n    <tr>\n      <th>22</th>\n      <td>CITY_SEATTLE</td>\n      <td>372</td>\n      <td>30</td>\n      <td>212.0</td>\n      <td>OPTIMIZED</td>\n      <td>0.0</td>\n      <td></td>\n      <td>2020-04-09 16:11:51.692052</td>\n    </tr>\n    <tr>\n      <th>23</th>\n      <td>CITY_ST_LOUIS</td>\n      <td>120</td>\n      <td>50</td>\n      <td>28.0</td>\n      <td>OPTIMIZED</td>\n      <td>0.0</td>\n      <td></td>\n      <td>2020-04-09 16:11:51.698611</td>\n    </tr>\n    <tr>\n      <th>24</th>\n      <td>CITY_WICHITA</td>\n      <td>500</td>\n      <td>80</td>\n      <td>245.0</td>\n      <td>OPTIMIZED</td>\n      <td>0.0</td>\n      <td></td>\n      <td>2020-04-09 16:11:51.705212</td>\n    </tr>\n  </tbody>\n</table>\n</div>",
                        "text/plain": "                   CITY  FCST_DEMAND_1_WK  CURR_INV  SHIPMENT_QTY   SCENARIO  \\\n0          CITY_ATLANTA               500       200         125.0  OPTIMIZED   \n1           CITY_BOSTON               700        50         405.0  OPTIMIZED   \n2        CITY_CHARLOTTE               100        45          20.0  OPTIMIZED   \n3          CITY_CHICAGO               290        90          99.0  OPTIMIZED   \n4         CITY_COLUMBUS               455       250          46.0  OPTIMIZED   \n5           CITY_DALLAS              1000       100         526.0  OPTIMIZED   \n6           CITY_DENVER               400       150         110.0  OPTIMIZED   \n7          CITY_DETROIT               350         0         228.0  OPTIMIZED   \n8          CITY_HOUSTON               375        25         219.0  OPTIMIZED   \n9        CITY_LAS_VEGAS               675       350          89.0  OPTIMIZED   \n10     CITY_LOS_ANGELES               200        25         105.0  OPTIMIZED   \n11           CITY_MIAMI               475       125         184.0  OPTIMIZED   \n12     CITY_MINNEAPOLIS               800       300         220.0  OPTIMIZED   \n13       CITY_NASHVILLE               650       225         197.0  OPTIMIZED   \n14     CITY_NEW_ORLEANS               512       280          53.0  OPTIMIZED   \n15        CITY_NEW_YORK               550       280          77.0  OPTIMIZED   \n16   CITY_OKLAHOMA_CITY               300        75         120.0  OPTIMIZED   \n17         CITY_PHOENIX              1000       325         325.0  OPTIMIZED   \n18      CITY_SACRAMENTO               900       445         140.0  OPTIMIZED   \n19  CITY_SALT_LAKE_CITY               800       275         245.0  OPTIMIZED   \n20       CITY_SAN_DIEGO               789       430          82.0  OPTIMIZED   \n21   CITY_SAN_FRANCISCO               442        67         220.0  OPTIMIZED   \n22         CITY_SEATTLE               372        30         212.0  OPTIMIZED   \n23        CITY_ST_LOUIS               120        50          28.0  OPTIMIZED   \n24         CITY_WICHITA               500        80         245.0  OPTIMIZED   \n\n    PERCENT ACTION         MODIFIED_TIMESTAMP  \n0       0.0        2020-04-09 16:11:51.527930  \n1       0.0        2020-04-09 16:11:51.537901  \n2       0.0        2020-04-09 16:11:51.545235  \n3       0.0        2020-04-09 16:11:51.551920  \n4       0.0        2020-04-09 16:11:51.558987  \n5       0.0        2020-04-09 16:11:51.572924  \n6       0.0        2020-04-09 16:11:51.581795  \n7       0.0        2020-04-09 16:11:51.588960  \n8       0.0        2020-04-09 16:11:51.596794  \n9       0.0        2020-04-09 16:11:51.604146  \n10      0.0        2020-04-09 16:11:51.610789  \n11      0.0        2020-04-09 16:11:51.617454  \n12      0.0        2020-04-09 16:11:51.624096  \n13      0.0        2020-04-09 16:11:51.630891  \n14      0.0        2020-04-09 16:11:51.638431  \n15      0.0        2020-04-09 16:11:51.645076  \n16      0.0        2020-04-09 16:11:51.651799  \n17      0.0        2020-04-09 16:11:51.658445  \n18      0.0        2020-04-09 16:11:51.665372  \n19      0.0        2020-04-09 16:11:51.672036  \n20      0.0        2020-04-09 16:11:51.678720  \n21      0.0        2020-04-09 16:11:51.685385  \n22      0.0        2020-04-09 16:11:51.692052  \n23      0.0        2020-04-09 16:11:51.698611  \n24      0.0        2020-04-09 16:11:51.705212  "
                    },
                    "execution_count": 162,
                    "metadata": {},
                    "output_type": "execute_result"
                }
            ],
            "source": "subset = pd.DataFrame({'CITY':markets['CITY'], 'FCST_DEMAND_1_WK':markets['FCST_DEMAND_1_WK'],\n              'CURR_INV':markets['CURR_INV']})\n\n\nsolutionDF = subset.merge(solution_df, on='CITY')\nsolutionDF"
        },
        {
            "cell_type": "code",
            "execution_count": 163,
            "metadata": {},
            "outputs": [
                {
                    "data": {
                        "text/html": "<div>\n<style scoped>\n    .dataframe tbody tr th:only-of-type {\n        vertical-align: middle;\n    }\n\n    .dataframe tbody tr th {\n        vertical-align: top;\n    }\n\n    .dataframe thead th {\n        text-align: right;\n    }\n</style>\n<table border=\"1\" class=\"dataframe\">\n  <thead>\n    <tr style=\"text-align: right;\">\n      <th></th>\n      <th>CITY</th>\n      <th>FCST_DEMAND_1_WK</th>\n      <th>CURR_INV</th>\n      <th>SHIPMENT_QTY</th>\n      <th>SCENARIO</th>\n      <th>PERCENT</th>\n      <th>ACTION</th>\n      <th>MODIFIED_TIMESTAMP</th>\n    </tr>\n  </thead>\n  <tbody>\n    <tr>\n      <th>0</th>\n      <td>CITY_ATLANTA</td>\n      <td>500</td>\n      <td>200</td>\n      <td>125.0</td>\n      <td>OPTIMIZED</td>\n      <td>0.0</td>\n      <td></td>\n      <td>2020-04-09 16:11:51.527930</td>\n    </tr>\n    <tr>\n      <th>1</th>\n      <td>CITY_BOSTON</td>\n      <td>700</td>\n      <td>50</td>\n      <td>405.0</td>\n      <td>OPTIMIZED</td>\n      <td>0.0</td>\n      <td></td>\n      <td>2020-04-09 16:11:51.537901</td>\n    </tr>\n    <tr>\n      <th>2</th>\n      <td>CITY_CHARLOTTE</td>\n      <td>100</td>\n      <td>45</td>\n      <td>20.0</td>\n      <td>OPTIMIZED</td>\n      <td>0.0</td>\n      <td></td>\n      <td>2020-04-09 16:11:51.545235</td>\n    </tr>\n    <tr>\n      <th>3</th>\n      <td>CITY_CHICAGO</td>\n      <td>290</td>\n      <td>90</td>\n      <td>99.0</td>\n      <td>OPTIMIZED</td>\n      <td>0.0</td>\n      <td></td>\n      <td>2020-04-09 16:11:51.551920</td>\n    </tr>\n    <tr>\n      <th>4</th>\n      <td>CITY_COLUMBUS</td>\n      <td>455</td>\n      <td>250</td>\n      <td>46.0</td>\n      <td>OPTIMIZED</td>\n      <td>0.0</td>\n      <td></td>\n      <td>2020-04-09 16:11:51.558987</td>\n    </tr>\n  </tbody>\n</table>\n</div>",
                        "text/plain": "             CITY FCST_DEMAND_1_WK CURR_INV SHIPMENT_QTY   SCENARIO PERCENT  \\\n0    CITY_ATLANTA              500      200        125.0  OPTIMIZED     0.0   \n1     CITY_BOSTON              700       50        405.0  OPTIMIZED     0.0   \n2  CITY_CHARLOTTE              100       45         20.0  OPTIMIZED     0.0   \n3    CITY_CHICAGO              290       90         99.0  OPTIMIZED     0.0   \n4   CITY_COLUMBUS              455      250         46.0  OPTIMIZED     0.0   \n\n  ACTION         MODIFIED_TIMESTAMP  \n0        2020-04-09 16:11:51.527930  \n1        2020-04-09 16:11:51.537901  \n2        2020-04-09 16:11:51.545235  \n3        2020-04-09 16:11:51.551920  \n4        2020-04-09 16:11:51.558987  "
                    },
                    "execution_count": 163,
                    "metadata": {},
                    "output_type": "execute_result"
                }
            ],
            "source": "import numpy as np\n\nsolutionDF.CITY = solutionDF.CITY.astype(str).replace('nan',np.nan)\nsolutionDF.FCST_DEMAND_1_WK = solutionDF.FCST_DEMAND_1_WK.astype(str).replace('nan',np.nan)\nsolutionDF.CURR_INV = solutionDF.CURR_INV.astype(str).replace('nan',np.nan)\nsolutionDF.SHIPMENT_QTY = solutionDF.SHIPMENT_QTY.astype(str).replace('nan',np.nan)\nsolutionDF.SCENARIO = solutionDF.SCENARIO.astype(str).replace('nan',np.nan)\nsolutionDF.PERCENT = solutionDF.PERCENT.astype(str).replace('nan',np.nan)\nsolutionDF.ACTION = solutionDF.ACTION.astype(str).replace('nan',np.nan)\n\n\nsolutionDF = solutionDF.where(pd.notnull(solutionDF), None) \nsolutionDF.head()"
        },
        {
            "cell_type": "code",
            "execution_count": 164,
            "metadata": {},
            "outputs": [
                {
                    "data": {
                        "text/plain": "25"
                    },
                    "execution_count": 164,
                    "metadata": {},
                    "output_type": "execute_result"
                }
            ],
            "source": "tuple_of_tuples = tuple([tuple(x) for x in solutionDF.values])\n\nsql = \"INSERT INTO PCSB.RTL_OPTIMIZED_SHIPMENT VALUES(?,?,?,?,?,?,?,?)\"\n\n\nstmt = ibm_db.prepare(cnn, sql)\n\nibm_db.execute_many(stmt, tuple_of_tuples)"
        },
        {
            "cell_type": "code",
            "execution_count": null,
            "metadata": {},
            "outputs": [],
            "source": ""
        },
        {
            "cell_type": "markdown",
            "metadata": {},
            "source": "<h3>Defining the Modeling process as a function<h3>"
        },
        {
            "cell_type": "code",
            "execution_count": 165,
            "metadata": {},
            "outputs": [],
            "source": "def modeling_writing_to_db(total_shipments, reduction_percent): \n    \n    opt_allocation_ratio = opt_allow_ratio(total_shipments)\n    \n\n    # Model\n    mdl = Model(name='prs4b')\n\n    # Create integer decision variables for shipments.  Lower bound is 0.  Upper bound is forecast - curr inv\n    qty = markets.copy()\n    qty['VAR'] = qty.apply(lambda x: mdl.integer_var(name=x['CITY'], ub = x['MAX_SHIP'], lb = 0), axis=1)\n    # make the name the index\n    qty.set_index('CITY', inplace=True)\n    print(qty)\n    # Create a dummy decision variable representing the diff in allocation ratio.\n    # Need this dummy dvs to account for the fact that we need to minimize the sum of the absolute\n    # differences between the allocation ratio in individual markets.  The presence of the \n    # absolute number in the objective will make it non-linear. \n    # If we have 25 markets, we will have 24 dvs.  DV for market 1 -> 2, DV for market 1 -> 3, \n    # market 1 -> 3, etc to 1 - > 25\n    dummy_dvs = pd.DataFrame({'CITY_A': [qty.index.values[0]]*(qty.shape[0])})\n    dummy_dvs['CITY_B'] = qty.index.values\n    dummy_dvs = dummy_dvs.loc[dummy_dvs['CITY_A'] != dummy_dvs['CITY_B']]\n    dummy_dvs['IDX'] = 'DV_' + dummy_dvs['CITY_A'] + '_' + dummy_dvs['CITY_B']\n    dummy_dvs['VAR'] = dummy_dvs.apply(lambda x: mdl.continuous_var(name = 'DV_' + x['CITY_A'] + '_' + x['CITY_B']), axis=1)\n    dummy_dvs.set_index('IDX', inplace = True)\n\n    # Add constraints\n    # Total shipment across all markets cannot exceed total available product from suppier\n    mdl.add_constraint(mdl.sum(qty.loc[m.CITY]['VAR'] for m in markets.itertuples())<= total_shipments, 'CT_Total_Shipment')\n    mdl.add_constraints( \\\n                        (((mdl.sum([qty.loc[d[1]]['VAR'], qty.loc[d[1]]['CURR_INV']]))/qty.loc[d[1]]['FCST_DEMAND_1_WK'] - \\\n                          (mdl.sum([qty.loc[d[2]]['VAR'], qty.loc[d[2]]['CURR_INV']]))/qty.loc[d[2]]['FCST_DEMAND_1_WK']) \\\n                         <= d[3]) for d in dummy_dvs.itertuples())\n    mdl.add_constraints( \\\n                        (-1*((mdl.sum([qty.loc[d[1]]['VAR'], qty.loc[d[1]]['CURR_INV']]))/qty.loc[d[1]]['FCST_DEMAND_1_WK'] - \\\n                          (mdl.sum([qty.loc[d[2]]['VAR'], qty.loc[d[2]]['CURR_INV']]))/qty.loc[d[2]]['FCST_DEMAND_1_WK']) \\\n                         <= d[3]) for d in dummy_dvs.itertuples())\n    # Define the objective function \n    total_ratio = mdl.sum((-1*(qty.loc[m.CITY]['VAR'] + m.CURR_INV)/m.FCST_DEMAND_1_WK) for m in markets.itertuples())\n    total_dummy_vars = mdl.sum((d[3]) for d in dummy_dvs.itertuples())\n    mdl.add_kpi(-1*(total_ratio/25), publish_name=\"Total Allocation Ratio\")\n    mdl.add_kpi(total_dummy_vars, publish_name=\"Total Shortage Ratio\")\n    mdl.minimize(total_ratio + total_dummy_vars)\n\n    #Creating KPIS\n    for n in markets.itertuples():\n        shortage_ratio_with_var = ((qty.loc[n.CITY]['FCST_DEMAND_1_WK']-(qty.loc[n.CITY]['CURR_INV']))-qty.loc[n.CITY]['VAR'])/qty.loc[n.CITY]['FCST_DEMAND_1_WK']\n\n        mdl.add_kpi(shortage_ratio_with_var, publish_name='Shortage percentage %s' % n.CITY)\n\n    print(mdl.print_information())\n\n    # solve\n    ok = mdl.solve()\n\n    print(mdl.print_solution())\n    print(mdl.report())\n\n    solution_df = pd.DataFrame(columns=['CITY', 'SHIPMENT_QTY'])\n\n    for index, dvar in enumerate(mdl.solution.iter_variables()):\n        if(not dvar.to_string().startswith('DV_')):\n            solution_df.loc[index,'CITY'] = dvar.to_string()\n            solution_df.loc[index,'SHIPMENT_QTY'] = dvar.solution_value\n            solution_df.loc[index,'SCENARIO'] = 'OPTIMIZED'\n            solution_df.loc[index,'PERCENT'] = reduction_percent\n            solution_df.loc[index,'ACTION'] = 'REDUCTION'\n            solution_df.loc[index, 'MODIFIED_TIMESTAMP'] = pd.Timestamp.now()\n\n    #dd-cell\n    print(solution_df.head())\n\n    subset = pd.DataFrame({'CITY':markets['CITY'], 'FCST_DEMAND_1_WK':markets['FCST_DEMAND_1_WK'],\n                  'CURR_INV':markets['CURR_INV']})\n\n\n    solutionDF = subset.merge(solution_df, on='CITY')\n    print(solutionDF.head())\n\n    solutionDF.CITY = solutionDF.CITY.astype(str).replace('nan',np.nan)\n    solutionDF.FCST_DEMAND_1_WK = solutionDF.FCST_DEMAND_1_WK.astype(str).replace('nan',np.nan)\n    solutionDF.CURR_INV = solutionDF.CURR_INV.astype(str).replace('nan',np.nan)\n    solutionDF.SHIPMENT_QTY = solutionDF.SHIPMENT_QTY.astype(str).replace('nan',np.nan)\n    solutionDF.SCENARIO = solutionDF.SCENARIO.astype(str).replace('nan',np.nan)\n    solutionDF.PERCENT = solutionDF.PERCENT.astype(str).replace('nan',np.nan)\n    solutionDF.ACTION = solutionDF.ACTION.astype(str).replace('nan',np.nan)\n\n\n    solutionDF = solutionDF.where(pd.notnull(solutionDF), None) \n    print(solutionDF.head())\n\n    tuple_of_tuples = tuple([tuple(x) for x in solutionDF.values])\n\n    sql = \"INSERT INTO PCSB.RTL_OPTIMIZED_SHIPMENT VALUES(?,?,?,?,?,?,?,?)\"\n\n\n    stmt = ibm_db.prepare(cnn, sql)\n\n    ibm_db.execute_many(stmt, tuple_of_tuples)\n"
        },
        {
            "cell_type": "markdown",
            "metadata": {},
            "source": "<h4>Scenario #2</h4>"
        },
        {
            "cell_type": "code",
            "execution_count": 166,
            "metadata": {},
            "outputs": [
                {
                    "name": "stdout",
                    "output_type": "stream",
                    "text": "Scenario 2 where the shipment has been reduced by 20\n                     FCST_DEMAND_1_WK  CURR_INV  MAX_SHIP                  VAR\nCITY                                                                          \nCITY_ATLANTA                      500       200       300         CITY_ATLANTA\nCITY_BOSTON                       700        50       650          CITY_BOSTON\nCITY_CHARLOTTE                    100        45        55       CITY_CHARLOTTE\nCITY_CHICAGO                      290        90       200         CITY_CHICAGO\nCITY_COLUMBUS                     455       250       205        CITY_COLUMBUS\nCITY_DALLAS                      1000       100       900          CITY_DALLAS\nCITY_DENVER                       400       150       250          CITY_DENVER\nCITY_DETROIT                      350         0       350         CITY_DETROIT\nCITY_HOUSTON                      375        25       350         CITY_HOUSTON\nCITY_LAS_VEGAS                    675       350       325       CITY_LAS_VEGAS\nCITY_LOS_ANGELES                  200        25       175     CITY_LOS_ANGELES\nCITY_MIAMI                        475       125       350           CITY_MIAMI\nCITY_MINNEAPOLIS                  800       300       500     CITY_MINNEAPOLIS\nCITY_NASHVILLE                    650       225       425       CITY_NASHVILLE\nCITY_NEW_ORLEANS                  512       280       232     CITY_NEW_ORLEANS\nCITY_NEW_YORK                     550       280       270        CITY_NEW_YORK\nCITY_OKLAHOMA_CITY                300        75       225   CITY_OKLAHOMA_CITY\nCITY_PHOENIX                     1000       325       675         CITY_PHOENIX\nCITY_SACRAMENTO                   900       445       455      CITY_SACRAMENTO\nCITY_SALT_LAKE_CITY               800       275       525  CITY_SALT_LAKE_CITY\nCITY_SAN_DIEGO                    789       430       359       CITY_SAN_DIEGO\nCITY_SAN_FRANCISCO                442        67       375   CITY_SAN_FRANCISCO\nCITY_SEATTLE                      372        30       342         CITY_SEATTLE\nCITY_ST_LOUIS                     120        50        70        CITY_ST_LOUIS\nCITY_WICHITA                      500        80       420         CITY_WICHITA\nModel: prs4b\n - number of variables: 49\n   - binary=0, integer=25, continuous=24\n - number of constraints: 49\n   - linear=49\n - parameters: defaults\n - problem type is: MILP\nNone\nobjective: -14.562\n  CITY_ATLANTA=92\n  CITY_BOSTON=359\n  CITY_CHARLOTTE=14\n  CITY_CHICAGO=80\n  CITY_COLUMBUS=16\n  CITY_DALLAS=473\n  CITY_DENVER=84\n  CITY_DETROIT=205\n  CITY_HOUSTON=194\n  CITY_LAS_VEGAS=44\n  CITY_LOS_ANGELES=92\n  CITY_MIAMI=152\n  CITY_MINNEAPOLIS=167\n  CITY_NASHVILLE=154\n  CITY_NEW_ORLEANS=19\n  CITY_NEW_YORK=41\n  CITY_OKLAHOMA_CITY=100\n  CITY_PHOENIX=258\n  CITY_SACRAMENTO=80\n  CITY_SALT_LAKE_CITY=192\n  CITY_SAN_DIEGO=30\n  CITY_SAN_FRANCISCO=191\n  CITY_SEATTLE=187\n  CITY_ST_LOUIS=20\n  CITY_WICHITA=212\n  DV_CITY_ATLANTA_CITY_BOSTON=0.000\n  DV_CITY_ATLANTA_CITY_CHARLOTTE=0.006\n  DV_CITY_ATLANTA_CITY_CHICAGO=0.002\n  DV_CITY_ATLANTA_CITY_COLUMBUS=0.001\n  DV_CITY_ATLANTA_CITY_DALLAS=0.011\n  DV_CITY_ATLANTA_CITY_DENVER=0.001\n  DV_CITY_ATLANTA_CITY_DETROIT=0.002\n  DV_CITY_ATLANTA_CITY_LAS_VEGAS=0.000\n  DV_CITY_ATLANTA_CITY_LOS_ANGELES=0.001\n  DV_CITY_ATLANTA_CITY_MIAMI=0.001\n  DV_CITY_ATLANTA_CITY_MINNEAPOLIS=0.000\n  DV_CITY_ATLANTA_CITY_NASHVILLE=0.001\n  DV_CITY_ATLANTA_CITY_NEW_ORLEANS=0.000\n  DV_CITY_ATLANTA_CITY_NEW_YORK=0.000\n  DV_CITY_ATLANTA_CITY_OKLAHOMA_CITY=0.001\n  DV_CITY_ATLANTA_CITY_PHOENIX=0.001\n  DV_CITY_ATLANTA_CITY_SACRAMENTO=0.001\n  DV_CITY_ATLANTA_CITY_SALT_LAKE_CITY=0.000\n  DV_CITY_ATLANTA_CITY_SAN_DIEGO=0.001\n  DV_CITY_ATLANTA_CITY_SAN_FRANCISCO=0.000\n  DV_CITY_ATLANTA_CITY_SEATTLE=0.001\n  DV_CITY_ATLANTA_CITY_ST_LOUIS=0.001\nNone\n* model prs4b solved with objective = -14.562\n*  KPI: Total Allocation Ratio                  = 0.584\n*  KPI: Total Shortage Ratio                    = 0.032\n*  KPI: Shortage percentage CITY_ATLANTA        = 0.416\n*  KPI: Shortage percentage CITY_BOSTON         = 0.416\n*  KPI: Shortage percentage CITY_CHARLOTTE      = 0.410\n*  KPI: Shortage percentage CITY_CHICAGO        = 0.414\n*  KPI: Shortage percentage CITY_COLUMBUS       = 0.415\n*  KPI: Shortage percentage CITY_DALLAS         = 0.427\n*  KPI: Shortage percentage CITY_DENVER         = 0.415\n*  KPI: Shortage percentage CITY_DETROIT        = 0.414\n*  KPI: Shortage percentage CITY_HOUSTON        = 0.416\n*  KPI: Shortage percentage CITY_LAS_VEGAS      = 0.416\n*  KPI: Shortage percentage CITY_LOS_ANGELES    = 0.415\n*  KPI: Shortage percentage CITY_MIAMI          = 0.417\n*  KPI: Shortage percentage CITY_MINNEAPOLIS    = 0.416\n*  KPI: Shortage percentage CITY_NASHVILLE      = 0.417\n*  KPI: Shortage percentage CITY_NEW_ORLEANS    = 0.416\n*  KPI: Shortage percentage CITY_NEW_YORK       = 0.416\n*  KPI: Shortage percentage CITY_OKLAHOMA_CITY  = 0.417\n*  KPI: Shortage percentage CITY_PHOENIX        = 0.417\n*  KPI: Shortage percentage CITY_SACRAMENTO     = 0.417\n*  KPI: Shortage percentage CITY_SALT_LAKE_CITY = 0.416\n*  KPI: Shortage percentage CITY_SAN_DIEGO      = 0.417\n*  KPI: Shortage percentage CITY_SAN_FRANCISCO  = 0.416\n*  KPI: Shortage percentage CITY_SEATTLE        = 0.417\n*  KPI: Shortage percentage CITY_ST_LOUIS       = 0.417\n*  KPI: Shortage percentage CITY_WICHITA        = 0.416\nNone\n             CITY  SHIPMENT_QTY   SCENARIO  PERCENT     ACTION  \\\n0    CITY_ATLANTA          92.0  OPTIMIZED     20.0  REDUCTION   \n1     CITY_BOSTON         359.0  OPTIMIZED     20.0  REDUCTION   \n2  CITY_CHARLOTTE          14.0  OPTIMIZED     20.0  REDUCTION   \n3    CITY_CHICAGO          80.0  OPTIMIZED     20.0  REDUCTION   \n4   CITY_COLUMBUS          16.0  OPTIMIZED     20.0  REDUCTION   \n\n          MODIFIED_TIMESTAMP  \n0 2020-04-09 16:12:57.909417  \n1 2020-04-09 16:12:57.924204  \n2 2020-04-09 16:12:57.934745  \n3 2020-04-09 16:12:57.942818  \n4 2020-04-09 16:12:57.950211  \n             CITY  FCST_DEMAND_1_WK  CURR_INV  SHIPMENT_QTY   SCENARIO  \\\n0    CITY_ATLANTA               500       200          92.0  OPTIMIZED   \n1     CITY_BOSTON               700        50         359.0  OPTIMIZED   \n2  CITY_CHARLOTTE               100        45          14.0  OPTIMIZED   \n3    CITY_CHICAGO               290        90          80.0  OPTIMIZED   \n4   CITY_COLUMBUS               455       250          16.0  OPTIMIZED   \n\n   PERCENT     ACTION         MODIFIED_TIMESTAMP  \n0     20.0  REDUCTION 2020-04-09 16:12:57.909417  \n1     20.0  REDUCTION 2020-04-09 16:12:57.924204  \n2     20.0  REDUCTION 2020-04-09 16:12:57.934745  \n3     20.0  REDUCTION 2020-04-09 16:12:57.942818  \n4     20.0  REDUCTION 2020-04-09 16:12:57.950211  \n             CITY FCST_DEMAND_1_WK CURR_INV SHIPMENT_QTY   SCENARIO PERCENT  \\\n0    CITY_ATLANTA              500      200         92.0  OPTIMIZED    20.0   \n1     CITY_BOSTON              700       50        359.0  OPTIMIZED    20.0   \n2  CITY_CHARLOTTE              100       45         14.0  OPTIMIZED    20.0   \n3    CITY_CHICAGO              290       90         80.0  OPTIMIZED    20.0   \n4   CITY_COLUMBUS              455      250         16.0  OPTIMIZED    20.0   \n\n      ACTION         MODIFIED_TIMESTAMP  \n0  REDUCTION 2020-04-09 16:12:57.909417  \n1  REDUCTION 2020-04-09 16:12:57.924204  \n2  REDUCTION 2020-04-09 16:12:57.934745  \n3  REDUCTION 2020-04-09 16:12:57.942818  \n4  REDUCTION 2020-04-09 16:12:57.950211  \n"
                }
            ],
            "source": "print(\"Scenario 2 where the shipment has been reduced by 20\")\nmodeling_writing_to_db(3456, 20)\n\n"
        },
        {
            "cell_type": "markdown",
            "metadata": {},
            "source": "<h4>Scenario #3</h4>"
        },
        {
            "cell_type": "code",
            "execution_count": 167,
            "metadata": {},
            "outputs": [
                {
                    "name": "stdout",
                    "output_type": "stream",
                    "text": "Scenario 3 where the shipment has been reduced by 30\n                     FCST_DEMAND_1_WK  CURR_INV  MAX_SHIP                  VAR\nCITY                                                                          \nCITY_ATLANTA                      500       200       300         CITY_ATLANTA\nCITY_BOSTON                       700        50       650          CITY_BOSTON\nCITY_CHARLOTTE                    100        45        55       CITY_CHARLOTTE\nCITY_CHICAGO                      290        90       200         CITY_CHICAGO\nCITY_COLUMBUS                     455       250       205        CITY_COLUMBUS\nCITY_DALLAS                      1000       100       900          CITY_DALLAS\nCITY_DENVER                       400       150       250          CITY_DENVER\nCITY_DETROIT                      350         0       350         CITY_DETROIT\nCITY_HOUSTON                      375        25       350         CITY_HOUSTON\nCITY_LAS_VEGAS                    675       350       325       CITY_LAS_VEGAS\nCITY_LOS_ANGELES                  200        25       175     CITY_LOS_ANGELES\nCITY_MIAMI                        475       125       350           CITY_MIAMI\nCITY_MINNEAPOLIS                  800       300       500     CITY_MINNEAPOLIS\nCITY_NASHVILLE                    650       225       425       CITY_NASHVILLE\nCITY_NEW_ORLEANS                  512       280       232     CITY_NEW_ORLEANS\nCITY_NEW_YORK                     550       280       270        CITY_NEW_YORK\nCITY_OKLAHOMA_CITY                300        75       225   CITY_OKLAHOMA_CITY\nCITY_PHOENIX                     1000       325       675         CITY_PHOENIX\nCITY_SACRAMENTO                   900       445       455      CITY_SACRAMENTO\nCITY_SALT_LAKE_CITY               800       275       525  CITY_SALT_LAKE_CITY\nCITY_SAN_DIEGO                    789       430       359       CITY_SAN_DIEGO\nCITY_SAN_FRANCISCO                442        67       375   CITY_SAN_FRANCISCO\nCITY_SEATTLE                      372        30       342         CITY_SEATTLE\nCITY_ST_LOUIS                     120        50        70        CITY_ST_LOUIS\nCITY_WICHITA                      500        80       420         CITY_WICHITA\nModel: prs4b\n - number of variables: 49\n   - binary=0, integer=25, continuous=24\n - number of constraints: 49\n   - linear=49\n - parameters: defaults\n - problem type is: MILP\nNone\nobjective: -13.750\n  CITY_ATLANTA=75\n  CITY_BOSTON=335\n  CITY_CHARLOTTE=10\n  CITY_CHICAGO=70\n  CITY_COLUMBUS=1\n  CITY_DALLAS=450\n  CITY_DENVER=70\n  CITY_DETROIT=193\n  CITY_HOUSTON=182\n  CITY_LAS_VEGAS=22\n  CITY_LOS_ANGELES=85\n  CITY_MIAMI=137\n  CITY_MINNEAPOLIS=140\n  CITY_NASHVILLE=133\n  CITY_NEW_ORLEANS=2\n  CITY_NEW_YORK=23\n  CITY_OKLAHOMA_CITY=90\n  CITY_PHOENIX=225\n  CITY_SACRAMENTO=50\n  CITY_SALT_LAKE_CITY=165\n  CITY_SAN_DIEGO=4\n  CITY_SAN_FRANCISCO=176\n  CITY_SEATTLE=175\n  CITY_ST_LOUIS=16\n  CITY_WICHITA=195\n  DV_CITY_ATLANTA_CITY_CHICAGO=0.002\n  DV_CITY_ATLANTA_CITY_COLUMBUS=0.002\n  DV_CITY_ATLANTA_CITY_DETROIT=0.001\n  DV_CITY_ATLANTA_CITY_HOUSTON=0.002\n  DV_CITY_ATLANTA_CITY_LAS_VEGAS=0.001\n  DV_CITY_ATLANTA_CITY_MIAMI=0.002\n  DV_CITY_ATLANTA_CITY_NASHVILLE=0.001\n  DV_CITY_ATLANTA_CITY_NEW_ORLEANS=0.001\n  DV_CITY_ATLANTA_CITY_NEW_YORK=0.001\n  DV_CITY_ATLANTA_CITY_SAN_DIEGO=0.000\n  DV_CITY_ATLANTA_CITY_SAN_FRANCISCO=0.000\n  DV_CITY_ATLANTA_CITY_SEATTLE=0.001\nNone\n* model prs4b solved with objective = -13.750\n*  KPI: Total Allocation Ratio                  = 0.551\n*  KPI: Total Shortage Ratio                    = 0.013\n*  KPI: Shortage percentage CITY_ATLANTA        = 0.450\n*  KPI: Shortage percentage CITY_BOSTON         = 0.450\n*  KPI: Shortage percentage CITY_CHARLOTTE      = 0.450\n*  KPI: Shortage percentage CITY_CHICAGO        = 0.448\n*  KPI: Shortage percentage CITY_COLUMBUS       = 0.448\n*  KPI: Shortage percentage CITY_DALLAS         = 0.450\n*  KPI: Shortage percentage CITY_DENVER         = 0.450\n*  KPI: Shortage percentage CITY_DETROIT        = 0.449\n*  KPI: Shortage percentage CITY_HOUSTON        = 0.448\n*  KPI: Shortage percentage CITY_LAS_VEGAS      = 0.449\n*  KPI: Shortage percentage CITY_LOS_ANGELES    = 0.450\n*  KPI: Shortage percentage CITY_MIAMI          = 0.448\n*  KPI: Shortage percentage CITY_MINNEAPOLIS    = 0.450\n*  KPI: Shortage percentage CITY_NASHVILLE      = 0.449\n*  KPI: Shortage percentage CITY_NEW_ORLEANS    = 0.449\n*  KPI: Shortage percentage CITY_NEW_YORK       = 0.449\n*  KPI: Shortage percentage CITY_OKLAHOMA_CITY  = 0.450\n*  KPI: Shortage percentage CITY_PHOENIX        = 0.450\n*  KPI: Shortage percentage CITY_SACRAMENTO     = 0.450\n*  KPI: Shortage percentage CITY_SALT_LAKE_CITY = 0.450\n*  KPI: Shortage percentage CITY_SAN_DIEGO      = 0.450\n*  KPI: Shortage percentage CITY_SAN_FRANCISCO  = 0.450\n*  KPI: Shortage percentage CITY_SEATTLE        = 0.449\n*  KPI: Shortage percentage CITY_ST_LOUIS       = 0.450\n*  KPI: Shortage percentage CITY_WICHITA        = 0.450\nNone\n             CITY  SHIPMENT_QTY   SCENARIO  PERCENT     ACTION  \\\n0    CITY_ATLANTA          75.0  OPTIMIZED     30.0  REDUCTION   \n1     CITY_BOSTON         335.0  OPTIMIZED     30.0  REDUCTION   \n2  CITY_CHARLOTTE          10.0  OPTIMIZED     30.0  REDUCTION   \n3    CITY_CHICAGO          70.0  OPTIMIZED     30.0  REDUCTION   \n4   CITY_COLUMBUS           1.0  OPTIMIZED     30.0  REDUCTION   \n\n          MODIFIED_TIMESTAMP  \n0 2020-04-09 16:13:39.574418  \n1 2020-04-09 16:13:39.587429  \n2 2020-04-09 16:13:39.597076  \n3 2020-04-09 16:13:39.607637  \n4 2020-04-09 16:13:39.615594  \n             CITY  FCST_DEMAND_1_WK  CURR_INV  SHIPMENT_QTY   SCENARIO  \\\n0    CITY_ATLANTA               500       200          75.0  OPTIMIZED   \n1     CITY_BOSTON               700        50         335.0  OPTIMIZED   \n2  CITY_CHARLOTTE               100        45          10.0  OPTIMIZED   \n3    CITY_CHICAGO               290        90          70.0  OPTIMIZED   \n4   CITY_COLUMBUS               455       250           1.0  OPTIMIZED   \n\n   PERCENT     ACTION         MODIFIED_TIMESTAMP  \n0     30.0  REDUCTION 2020-04-09 16:13:39.574418  \n1     30.0  REDUCTION 2020-04-09 16:13:39.587429  \n2     30.0  REDUCTION 2020-04-09 16:13:39.597076  \n3     30.0  REDUCTION 2020-04-09 16:13:39.607637  \n4     30.0  REDUCTION 2020-04-09 16:13:39.615594  \n             CITY FCST_DEMAND_1_WK CURR_INV SHIPMENT_QTY   SCENARIO PERCENT  \\\n0    CITY_ATLANTA              500      200         75.0  OPTIMIZED    30.0   \n1     CITY_BOSTON              700       50        335.0  OPTIMIZED    30.0   \n2  CITY_CHARLOTTE              100       45         10.0  OPTIMIZED    30.0   \n3    CITY_CHICAGO              290       90         70.0  OPTIMIZED    30.0   \n4   CITY_COLUMBUS              455      250          1.0  OPTIMIZED    30.0   \n\n      ACTION         MODIFIED_TIMESTAMP  \n0  REDUCTION 2020-04-09 16:13:39.574418  \n1  REDUCTION 2020-04-09 16:13:39.587429  \n2  REDUCTION 2020-04-09 16:13:39.597076  \n3  REDUCTION 2020-04-09 16:13:39.607637  \n4  REDUCTION 2020-04-09 16:13:39.615594  \n"
                }
            ],
            "source": "print(\"Scenario 3 where the shipment has been reduced by 30\")\nmodeling_writing_to_db(3024, 30)"
        },
        {
            "cell_type": "code",
            "execution_count": null,
            "metadata": {},
            "outputs": [],
            "source": ""
        },
        {
            "cell_type": "code",
            "execution_count": null,
            "metadata": {},
            "outputs": [],
            "source": ""
        }
    ],
    "metadata": {
        "kernelspec": {
            "display_name": "Python 3.6",
            "language": "python",
            "name": "python3"
        },
        "language_info": {
            "codemirror_mode": {
                "name": "ipython",
                "version": 3
            },
            "file_extension": ".py",
            "mimetype": "text/x-python",
            "name": "python",
            "nbconvert_exporter": "python",
            "pygments_lexer": "ipython3",
            "version": "3.6.9"
        }
    },
    "nbformat": 4,
    "nbformat_minor": 1
}